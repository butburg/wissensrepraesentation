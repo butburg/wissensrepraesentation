{
 "cells": [
  {
   "cell_type": "markdown",
   "metadata": {},
   "source": [
    "### Numerical Stable Binary Cross Entropy for Logistic Regression\n"
   ]
  },
  {
   "cell_type": "code",
   "execution_count": 1,
   "metadata": {},
   "outputs": [],
   "source": [
    "import numpy as np"
   ]
  },
  {
   "cell_type": "code",
   "execution_count": 2,
   "metadata": {},
   "outputs": [],
   "source": [
    "def logistic_function(z):\n",
    "    return 1/(1 + np.exp(-z))"
   ]
  },
  {
   "cell_type": "markdown",
   "metadata": {},
   "source": [
    "#### Machine limits for floating point types"
   ]
  },
  {
   "cell_type": "code",
   "execution_count": 3,
   "metadata": {},
   "outputs": [
    {
     "data": {
      "text/plain": [
       "finfo(resolution=1e-15, min=-1.7976931348623157e+308, max=1.7976931348623157e+308, dtype=float64)"
      ]
     },
     "execution_count": 3,
     "metadata": {},
     "output_type": "execute_result"
    }
   ],
   "source": [
    "np.finfo(np.double)"
   ]
  },
  {
   "cell_type": "markdown",
   "metadata": {},
   "source": [
    "We are interested in the smallest positive number which can be represented as a `float64`:"
   ]
  },
  {
   "cell_type": "code",
   "execution_count": 4,
   "metadata": {},
   "outputs": [
    {
     "data": {
      "text/plain": [
       "5e-324"
      ]
     },
     "execution_count": 4,
     "metadata": {},
     "output_type": "execute_result"
    }
   ],
   "source": [
    "smallest_positive_number = np.nextafter(0, 1)\n",
    "smallest_positive_number"
   ]
  },
  {
   "cell_type": "code",
   "execution_count": 5,
   "metadata": {},
   "outputs": [
    {
     "data": {
      "text/plain": [
       "-744.4400719213812"
      ]
     },
     "execution_count": 5,
     "metadata": {},
     "output_type": "execute_result"
    }
   ],
   "source": [
    "np.log(smallest_positive_number)"
   ]
  },
  {
   "cell_type": "code",
   "execution_count": 6,
   "metadata": {},
   "outputs": [
    {
     "data": {
      "text/plain": [
       "5e-324"
      ]
     },
     "execution_count": 6,
     "metadata": {},
     "output_type": "execute_result"
    }
   ],
   "source": [
    "np.exp(-745)"
   ]
  },
  {
   "cell_type": "code",
   "execution_count": 7,
   "metadata": {},
   "outputs": [
    {
     "data": {
      "text/plain": [
       "0.0"
      ]
     },
     "execution_count": 7,
     "metadata": {},
     "output_type": "execute_result"
    }
   ],
   "source": [
    "np.exp(-746)"
   ]
  },
  {
   "cell_type": "markdown",
   "metadata": {},
   "source": [
    "Numerically, we have $\\exp(-746) \\approx 0$ and for all number smaller then $-746$ the exponent\n",
    "is also zero."
   ]
  },
  {
   "cell_type": "markdown",
   "metadata": {},
   "source": [
    "In logistic regression the prediction model has the parameters $\\theta$. \n",
    "The dot product between $\\theta$ and the input $x$ computes the logit $z$.\n",
    "$$\n",
    "z = \\vec x^T \\cdot \\vec \\theta\n",
    "$$"
   ]
  },
  {
   "cell_type": "code",
   "execution_count": 8,
   "metadata": {},
   "outputs": [],
   "source": [
    "theta = np.array([-1.])"
   ]
  },
  {
   "cell_type": "code",
   "execution_count": 9,
   "metadata": {},
   "outputs": [],
   "source": [
    "x = np.array([.1])"
   ]
  },
  {
   "cell_type": "code",
   "execution_count": 10,
   "metadata": {},
   "outputs": [
    {
     "data": {
      "text/plain": [
       "-0.1"
      ]
     },
     "execution_count": 10,
     "metadata": {},
     "output_type": "execute_result"
    }
   ],
   "source": [
    "z = np.dot(theta, x)\n",
    "z"
   ]
  },
  {
   "cell_type": "markdown",
   "metadata": {},
   "source": [
    "With the logit $z$ the prediction is computed with the logistic function:\n",
    "$$p(y \\mid x;\\theta)= \\sigma(z) = \\frac{1}{1+\\exp(-z)}$$ "
   ]
  },
  {
   "cell_type": "markdown",
   "metadata": {},
   "source": [
    "Problem:\n",
    "\n",
    "1. if $z$ is a large number, $\\sigma(z)$ becomes $1$, i.e. numerically $\\sigma(z)\\approx 1$.\n",
    "2. if $z$ is a large negative number, $\\sigma(z)$ becomes $0$, i.e. numerically $\\sigma(z)\\approx 0$.\n",
    "\n",
    "for the cross entropy calculation:\n",
    "\n",
    "- if for 1. the true label is $0$ the non-zero term in the cross-entropy is \n",
    "$-\\log(1-\\sigma(z)) \\approx -\\log(1-1) = - \\log(0) = -\\infty$\n",
    "\n",
    "resp.\n",
    "- if for 1. the true label is $1$ the non-zero term in the cross-entropy is \n",
    "$-\\log(\\sigma(z)) \\approx -\\log(0) = -\\infty$"
   ]
  },
  {
   "cell_type": "markdown",
   "metadata": {},
   "source": [
    "We get the following error if we calculate the log of 0:"
   ]
  },
  {
   "cell_type": "code",
   "execution_count": 11,
   "metadata": {},
   "outputs": [
    {
     "name": "stderr",
     "output_type": "stream",
     "text": [
      "/home/christian/.local/py3-6/lib/python3.6/site-packages/ipykernel_launcher.py:1: RuntimeWarning: divide by zero encountered in log\n",
      "  \"\"\"Entry point for launching an IPython kernel.\n"
     ]
    },
    {
     "data": {
      "text/plain": [
       "-inf"
      ]
     },
     "execution_count": 11,
     "metadata": {},
     "output_type": "execute_result"
    }
   ],
   "source": [
    "np.log(0)"
   ]
  },
  {
   "cell_type": "markdown",
   "metadata": {},
   "source": [
    "However, it is possible to transform $-\\log(\\sigma(z))$ algebraically\n",
    "to get a numrical stable version fo log-sigma:\n",
    "\n",
    "From\n",
    "$$\n",
    " - \\log\\left(\\sigma(z)\\right) = - \\log\\left(\\frac{1}{1+\\exp(-z)}\\right)\n",
    " = \\log\\left(1+\\exp(-z)\\right) = \\log\\left(\\exp(0) + \\exp(-z)\\right)\n",
    "$$\n",
    "\n",
    "with \n",
    "- $\\mu = \\max(0, -z)$\n",
    "\n",
    "\n",
    "We get:\n",
    "\n",
    "$$\n",
    "- \\log\\left(\\sigma(z)\\right) = \\log\\left(\\left(\\exp(0) + \\exp(-z)\\right)\\right) = \\\\\n",
    "\\log\\left(\\frac{\\exp(\\mu)}{\\exp(\\mu)}\\left(\\exp(0) + \\exp(-z)\\right)\\right) =\\\\\n",
    "\\mu + \\log\\left(\\left(\\exp(0-\\mu) + \\exp(-z-\\mu)\\right)\\right)\n",
    "$$\n",
    "\n",
    "e.g. if $z=-20$ then $-z = \\mu=20$\n",
    "\n",
    "$\\Rightarrow$\n",
    "\n",
    "$- \\log\\left(\\sigma(z)\\right) = 20 + \\log(\\exp(-20) + \\exp(20-20)) $"
   ]
  },
  {
   "cell_type": "code",
   "execution_count": 12,
   "metadata": {},
   "outputs": [
    {
     "data": {
      "text/plain": [
       "20.000000002061153"
      ]
     },
     "execution_count": 12,
     "metadata": {},
     "output_type": "execute_result"
    }
   ],
   "source": [
    "nl = lambda x: x+np.log(np.exp(-x)+np.exp(0))\n",
    "nl(20)"
   ]
  },
  {
   "cell_type": "code",
   "execution_count": 13,
   "metadata": {},
   "outputs": [
    {
     "data": {
      "text/plain": [
       "20.000000002061153"
      ]
     },
     "execution_count": 13,
     "metadata": {},
     "output_type": "execute_result"
    }
   ],
   "source": [
    "-np.log(logistic_function(-20))"
   ]
  },
  {
   "cell_type": "code",
   "execution_count": 14,
   "metadata": {},
   "outputs": [
    {
     "data": {
      "text/plain": [
       "1000.0"
      ]
     },
     "execution_count": 14,
     "metadata": {},
     "output_type": "execute_result"
    }
   ],
   "source": [
    "#numerical stable even for large -z = 1000\n",
    "nl(1000)"
   ]
  },
  {
   "cell_type": "code",
   "execution_count": 15,
   "metadata": {},
   "outputs": [
    {
     "name": "stderr",
     "output_type": "stream",
     "text": [
      "/home/christian/.local/py3-6/lib/python3.6/site-packages/ipykernel_launcher.py:2: RuntimeWarning: overflow encountered in exp\n",
      "  \n",
      "/home/christian/.local/py3-6/lib/python3.6/site-packages/ipykernel_launcher.py:2: RuntimeWarning: divide by zero encountered in log\n",
      "  \n"
     ]
    },
    {
     "data": {
      "text/plain": [
       "inf"
      ]
     },
     "execution_count": 15,
     "metadata": {},
     "output_type": "execute_result"
    }
   ],
   "source": [
    "# instable version\n",
    "-np.log(logistic_function(-1000))"
   ]
  },
  {
   "cell_type": "markdown",
   "metadata": {},
   "source": [
    "Analog for the negative probability, i.e. $\\log(1-\\sigma(z))$:\n",
    "\n",
    "with\n",
    "$$\n",
    "p(y=0) = 1 - \\sigma(z) = \\sigma(-z) \n",
    "$$\n",
    "\n",
    "and with \n",
    "$\\mu = \\max(0, z)$\n",
    "\n",
    "$$\n",
    "- \\log\\left(1- \\sigma(z)\\right) = - \\log\\left(\\sigma(-z)\\right)= \\log\\left(\\frac{\\exp(\\mu)}{\\exp(\\mu)}\\left(\\exp(0) + \\exp(z)\\right)\\right) = \\\\\n",
    "\\log\\left(\\frac{\\exp(\\mu)}{\\exp(\\mu)}\\left(\\exp(0) + \\exp(z)\\right)\\right) =\\\\\n",
    "\\mu + \\log\\left(\\left(\\exp(0-\\mu) + \\exp(z-\\mu)\\right)\\right)\n",
    "$$"
   ]
  },
  {
   "cell_type": "code",
   "execution_count": 16,
   "metadata": {},
   "outputs": [],
   "source": [
    "def cross_entropy(z, y):\n",
    "    \"\"\"\n",
    "    Computes the cross-entropy for a single logit value and a given target class.\n",
    "    \n",
    "    Parameters\n",
    "    ----------\n",
    "    z : float64 or float32\n",
    "    The logit\n",
    "    y : int\n",
    "    The target class\n",
    "    \n",
    "    Returns\n",
    "    -------\n",
    "    floatX\n",
    "    The cross entropy value (negative log-likelihood)\n",
    "    \"\"\"\n",
    "    mu = max([0, -z])\n",
    "    r1 = y * (mu + np.log(np.exp(-mu)+np.exp(-z-mu)))  \n",
    "        \n",
    "    mu = max([0, z])\n",
    "    r2 = (1-y) * (mu + np.log(np.exp(-mu)+np.exp(z-mu))) \n",
    "    return r1 + r2\n"
   ]
  },
  {
   "cell_type": "code",
   "execution_count": 17,
   "metadata": {},
   "outputs": [],
   "source": [
    "z=np.array([-1000., 10000., 10., 78., -11.])\n",
    "y=np.array([0, 1, 1, 0, 0])"
   ]
  },
  {
   "cell_type": "code",
   "execution_count": 18,
   "metadata": {},
   "outputs": [
    {
     "data": {
      "text/plain": [
       "array([0.00000000e+00, 0.00000000e+00, 4.53988992e-05, 7.80000000e+01,\n",
       "       1.67015613e-05])"
      ]
     },
     "execution_count": 18,
     "metadata": {},
     "output_type": "execute_result"
    }
   ],
   "source": [
    "x_ent=np.zeros_like(z)\n",
    "for i, (z_, y_) in enumerate(zip(z,y)):\n",
    "    x_ent[i] = cross_entropy(z[i], y[i])\n",
    "x_ent"
   ]
  },
  {
   "cell_type": "markdown",
   "metadata": {},
   "source": [
    "#### Task\n",
    "\n",
    "Implement the `cross_entropy` function for a (mini-)batch, i.e. \n",
    "`z` and `y` are 1d numpy arrays.\n",
    "Implement it in a vectorized fashion, i.e. don't use pyton loops etc.\n"
   ]
  },
  {
   "cell_type": "code",
   "execution_count": 19,
   "metadata": {},
   "outputs": [],
   "source": [
    "def batched_cross_entropy(z, y):\n",
    "    \"\"\"\n",
    "    Computes the cross-entropy for a batch of logit values and a given target classes.\n",
    "    \n",
    "    Parameters\n",
    "    ----------\n",
    "    z : ndarray with dtype float64 or float32\n",
    "    The logits\n",
    "    y : ndarray with dtype int\n",
    "    The target classes\n",
    "    \n",
    "    Returns\n",
    "    -------\n",
    "    ndarray with floats\n",
    "    The cross entropy values (negative log-likelihood)\n",
    "    \"\"\"\n",
    "    pass#your task"
   ]
  },
  {
   "cell_type": "code",
   "execution_count": 27,
   "metadata": {},
   "outputs": [
    {
     "name": "stdout",
     "output_type": "stream",
     "text": [
      "[1000.    0.    0.    0.   11.]\n"
     ]
    }
   ],
   "source": [
    "# This test must pass\n",
    "np.testing.assert_array_almost_equal(batched_cross_entropy(z, y), x_ent)"
   ]
  },
  {
   "cell_type": "code",
   "execution_count": null,
   "metadata": {},
   "outputs": [],
   "source": []
  },
  {
   "cell_type": "code",
   "execution_count": null,
   "metadata": {},
   "outputs": [],
   "source": []
  }
 ],
 "metadata": {
  "kernelspec": {
   "display_name": "Python 3",
   "language": "python",
   "name": "python3"
  },
  "language_info": {
   "codemirror_mode": {
    "name": "ipython",
    "version": 3
   },
   "file_extension": ".py",
   "mimetype": "text/x-python",
   "name": "python",
   "nbconvert_exporter": "python",
   "pygments_lexer": "ipython3",
   "version": "3.6.3"
  }
 },
 "nbformat": 4,
 "nbformat_minor": 2
}
