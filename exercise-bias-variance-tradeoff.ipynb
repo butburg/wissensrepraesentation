{
 "cells": [
  {
   "cell_type": "markdown",
   "metadata": {
    "slideshow": {
     "slide_type": "-"
    }
   },
   "source": [
    "# ML-Fundamentals - Bias Variance Tradeoff"
   ]
  },
  {
   "cell_type": "markdown",
   "metadata": {
    "slideshow": {
     "slide_type": "-"
    }
   },
   "source": [
    "## Table of Contents\n",
    "* [Introduction](#Introduction)\n",
    "* [Requirements](#Requirements) \n",
    "  * [Knowledge](#Knowledge) \n",
    "  * [Modules](#Python-Modules)\n",
    "* [Exercise](#Exercise)\n",
    " * [Data Generation](#Data-Generation)\n",
    " * [Hypothesis](#Hypothesis)\n",
    " * [Plot](#Plot)\n",
    " * [Out of Sample Error](#Out-of-Sample-Error)\n",
    " * [Repeat](#Repeat)\n",
    " * [Average and Plot](#Average-and-Plot)\n",
    " * [Bias](#Bias)\n",
    " * [Variance](#Variance)\n",
    "* [Summary and Outlook](#Summary-and-Outlook)\n",
    "* [Literature](#Literature) \n",
    "* [Licenses](#Licenses)"
   ]
  },
  {
   "cell_type": "markdown",
   "metadata": {
    "slideshow": {
     "slide_type": "-"
    }
   },
   "source": [
    "## Introduction\n",
    "\n",
    "If you completed the exercises *simple-linear-regression*, *multivariate-linear-regression* and *logistic-linear-regression* you know how to fit these models according to your training data.\n",
    "\n",
    "This alone so far has no practical use case. The benefit of learning a model is to predict unseen data. Additionally, only with unseen data your model has not learnt from, it is possible to say if your model generalizes well or not. One way to measure this, is approximating the *out of sample error* $E_{out}$, which consists of the measures *bias*, *variance* and *irreducable error*.\n",
    "\n",
    "In this notebook you will calculate two simple hypothesis for linear regression based on training data and compare them with the use of unseen validation data by calculating $E_{out}$, which can here decomposed into *bias* and *variance*."
   ]
  },
  {
   "cell_type": "markdown",
   "metadata": {
    "slideshow": {
     "slide_type": "-"
    }
   },
   "source": [
    "## Requirements\n",
    "\n",
    "### Knowledge\n",
    "\n",
    "You should have a basic knowledge of:\n",
    "- Univariate linear regression\n",
    "- Out of sample error (bias variance)\n",
    "\n",
    "Suitable sources for acquiring this knowledge are:\n",
    "- [Simple Linear Regression Notebook](http://christianherta.de/lehre/dataScience/machineLearning/basics/univariate-linear-regression.php) by Christian Herta and his [lecture slides](http://christianherta.de/lehre/dataScience/machineLearning/linearRegression.pdf) (German)\n",
    "\n",
    "- [Bias Variance Tradeoff](http://christianherta.de/lehre/dataScience/machineLearning/basics/bias-variance-tradeoff.php) by Christian Herta and his [lecture slides](http://christianherta.de/lehre/dataScience/machineLearning/bias-variance-tradeoff.pdf) (German)\n",
    "\n",
    "- [numpy quickstart](https://docs.scipy.org/doc/numpy-1.15.1/user/quickstart.html)\n",
    "- [Matplotlib tutorials](https://matplotlib.org/tutorials/index.html)"
   ]
  },
  {
   "cell_type": "markdown",
   "metadata": {
    "slideshow": {
     "slide_type": "-"
    }
   },
   "source": [
    "### Python Modules\n",
    "\n",
    "By [deep.TEACHING](https://www.deep-teaching.org/) convention, all python modules needed to run the notebook are loaded centrally at the beginning. \n"
   ]
  },
  {
   "cell_type": "code",
   "execution_count": 1,
   "metadata": {},
   "outputs": [
    {
     "name": "stdout",
     "output_type": "stream",
     "text": [
      "3.8.5\n"
     ]
    }
   ],
   "source": [
    "import numpy as np\n",
    "import matplotlib.pyplot as plt\n",
    "\n",
    "import hashlib\n",
    "\n",
    "from platform import python_version\n",
    "print(python_version())\n",
    "\n",
    "np.random.seed(42)\n",
    "np.set_printoptions(suppress=True)"
   ]
  },
  {
   "cell_type": "code",
   "execution_count": 2,
   "metadata": {},
   "outputs": [],
   "source": [
    "def round_and_hash(value, precision=4, dtype=np.float32):\n",
    "    \"\"\" \n",
    "    Function to round and hash a scalar or numpy array of scalars.\n",
    "    Used to compare results with true solutions without spoiling the solution.\n",
    "    \"\"\"\n",
    "    rounded = np.array([value], dtype=dtype).round(decimals=precision)\n",
    "    hashed = hashlib.md5(rounded).hexdigest()\n",
    "    return hashed"
   ]
  },
  {
   "cell_type": "markdown",
   "metadata": {},
   "source": [
    "## Exercise\n",
    "\n",
    "Exercise inspired by lecture 8 from:\n",
    "- Yaser Abu-Mostafa\n",
    " - [Learning from Data, Caltech Machine Learning](http://home.caltech.edu/telecourse.html) [ABU18a]\n",
    " - or directly at [here for the video](https://www.youtube.com/watch?v=zrEyxfl2-a8&hd=1) [ABU18b]"
   ]
  },
  {
   "cell_type": "markdown",
   "metadata": {
    "slideshow": {
     "slide_type": "-"
    }
   },
   "source": [
    "In this exercise, the target function $t(x)$ is the sin curve. Our task is to approximate the target using a constant function and linear regression, i.e. a straight line. To do so we need training samples from the model. A single training sample is a pair of points on the sin curve, generated as follows:\n",
    "* $p(x)$ is the uniform distribution in the interval $[0,2\\pi]$\n",
    "* Two x-values $x^{(1)}$ and $x^{(2)}$ are drawn from $p(x)$\n",
    "* The y-value is the target of x without any additional noise: $y^{(i)}= t(x^{(i)}) = sin(x^{(i)})$\n",
    "\n",
    "![plot1.png](attachment:plot1.png)\n",
    "\n",
    "Using these two points, we'll try two different hypotheses to approximate the sin curve:\n",
    "1. $$\\mathcal H_1: h_1(x) = \\theta_0 + \\theta_1 x$$\n",
    "    A straight line through the two points. The parameters $\\theta_0$ and $\\theta_1$ correspond to the y-intercept and slope of a [linear function](https://www.mathsisfun.com/algebra/linear-equations.html).\n",
    "2. $$\\mathcal H_2: h_2(x) = w$$\n",
    "A constant, i.e. a line parallel to the x-axis. To get the constant-curve with minimum squared error just take for $w$ the mean of the y-values of the two sampled data points. \n",
    "\n",
    "![image.png](attachment:image.png)"
   ]
  },
  {
   "cell_type": "markdown",
   "metadata": {},
   "source": [
    "To judge which of the hypothesis does a better job of modeling the target, we'll generate more training data and learn parameters for the hypotheses. Then we'll evaluate the hypotheses according to the *our of sample error*, *bias* and *variance*.\n",
    "\n",
    "**Task:**\n",
    "\n",
    "- Do the following 10.000 times:\n",
    " - Draw two random examples $x^{(1)}$ and $x^{(2)}$ from $p(x)$ and calculate the corresponding $y$s to get $\\mathcal D = \\{(x^{(1)},x^{(2)}), (y^{(1)},y^{(2)})\\}$ *(training data)* \n",
    " - Using your *training data* calculate the parameters $\\theta_0, \\theta_1$ for $\\mathcal H_1$ and the parameter $w$ for $\\mathcal H_2(x)$\n",
    " - Numerically calculate the out of sample error $E_{out}$ for $\\mathcal H_1(x)$ and $\\mathcal H_2(x)$ for 100 data points uniformly distributed in the interval of $[0, 2\\pi]$ (*validation data*) \n",
    " \n",
    " \n",
    "- Now calculate the average $\\theta_0, \\theta_1$ and $w$ of all 10.000 experiments.\n",
    "- Also calculate the average \"out of sample error\" $E_{out}$ for both hypothesis sets $\\mathcal H_1$ and $\\mathcal H_2$.\n",
    "- Use the above to calculate the *bias$^2$* and the *variance*.\n",
    "- Plot the target function $sin(x)$ together with both average hypotheses $\\tilde h_1(x)$ and $\\tilde h_2(x)$ using the average $\\theta_0, \\theta_1$ and $w$\n",
    "- Considering your results, which hypothesis seems to better model the target function?\n",
    "\n",
    "Practically this explanation is all you need to solve the exercise. You are free to complete it without any further guiding or by proceeding with this notebook."
   ]
  },
  {
   "cell_type": "markdown",
   "metadata": {},
   "source": [
    "### Data Generation"
   ]
  },
  {
   "cell_type": "markdown",
   "metadata": {},
   "source": [
    "**Task:**\n",
    "\n",
    "Implement the function to draw two random training examples $(x^{(i)},y^{(i)})$ with:\n",
    "\n",
    "- $x^{(i)} \\in Uniform(0,2\\pi)$\n",
    "- $i \\in \\{1,2\\}$\n",
    "- $y^{(i)} = sin(x^{(i)})$"
   ]
  },
  {
   "cell_type": "code",
   "execution_count": 3,
   "metadata": {},
   "outputs": [],
   "source": [
    "def train_data():\n",
    "    x1 = np.random.uniform(0, 2 * np.pi)\n",
    "    x2 = np.random.uniform(0, 2 * np.pi)\n",
    "    y1 = np.sin(x1)\n",
    "    y2 = np.sin(x2)\n",
    "    \n",
    "    return (np.array([x1,x2]),np.array([y1,y2]))"
   ]
  },
  {
   "cell_type": "code",
   "execution_count": 4,
   "metadata": {},
   "outputs": [
    {
     "name": "stdout",
     "output_type": "stream",
     "text": [
      "[2.35330497 5.97351416] [ 0.70914702 -0.30474544]\n"
     ]
    }
   ],
   "source": [
    "x_train, y_train  = train_data() \n",
    "print(x_train, y_train)"
   ]
  },
  {
   "cell_type": "code",
   "execution_count": 5,
   "metadata": {},
   "outputs": [],
   "source": [
    "# If your implementation is correct, these tests should not throw an exception\n",
    "\n",
    "assert len(x_train) == 2\n",
    "assert len(y_train) == 2\n",
    "np.testing.assert_array_equal(np.sin(x_train), y_train)\n",
    "for i in range(1000):\n",
    "    x_tmp, _ = train_data()\n",
    "    assert x_tmp.min() >= 0.0\n",
    "    assert x_tmp.max() <= 2*np.pi"
   ]
  },
  {
   "cell_type": "markdown",
   "metadata": {},
   "source": [
    "### Hypothesis\n",
    "\n",
    "For our training data we will now model two different hypothesis sets:\n",
    "\n",
    "$$\\mathcal H_1: h_1(x) = \\theta_0 + \\theta_1 x$$\n",
    "\n",
    "and \n",
    "\n",
    "$$\\mathcal H_2: h_2(x) = w$$\n",
    "\n",
    "**Task:**\n",
    "\n",
    "Implement the functions to calculate the parameters $\\theta_0, \\theta_1$ for $h_1$ and $w$ for $h_2$ using the two drawn examples. \n",
    "\n",
    "For later purpose (passing functions as argument) it is important that both functions accept the same amount of parameters and also return the same amount. Therefore we also pass $x$ to `get_w`, although we do not need it. And for the same reason `get_thetas` should return a list of two values instead of two separate values."
   ]
  },
  {
   "cell_type": "code",
   "execution_count": 6,
   "metadata": {},
   "outputs": [],
   "source": [
    "def get_thetas(x, y):\n",
    "    \n",
    "    thetalist = list()\n",
    "\n",
    "    for i in range(len(x)):\n",
    "        if(i < len(y) - 1):\n",
    "            y1 = y[i]\n",
    "            y2 = y[i+1]\n",
    "            x1 = x[i]\n",
    "            x2 = x[i+1]\n",
    "\n",
    "            b = (y2-y1) / (x2 - x1)\n",
    "            a = y1 - (b * x1)\n",
    "\n",
    "            thetalist.append(a)\n",
    "            thetalist.append(b)\n",
    "            \n",
    "    return thetalist\n",
    "\n",
    "def get_w(x, y):\n",
    "    return np.average(y)"
   ]
  },
  {
   "cell_type": "code",
   "execution_count": 7,
   "metadata": {},
   "outputs": [
    {
     "name": "stdout",
     "output_type": "stream",
     "text": [
      "[1.3682244576682785, -0.28006460745801814]\n",
      "1.3682244576682785\n",
      "-0.28006460745801814\n"
     ]
    }
   ],
   "source": [
    "thetas = get_thetas(x_train, y_train)\n",
    "w = get_w(x_train, y_train)\n",
    "print(thetas)\n",
    "print(thetas[0])\n",
    "print(thetas[1])\n",
    "#print(w)"
   ]
  },
  {
   "cell_type": "code",
   "execution_count": 8,
   "metadata": {},
   "outputs": [
    {
     "name": "stdout",
     "output_type": "stream",
     "text": [
      "[0 1] [0.         0.84147098]\n",
      "[0.0, 0.8414709848078965]\n"
     ]
    }
   ],
   "source": [
    "# If your implementation is correct, these tests should not throw an exception\n",
    "\n",
    "x_train_temp = np.array([0,1])\n",
    "y_train_temp = np.array([np.sin(x_i) for x_i in x_train_temp])\n",
    "thetas_test = get_thetas(x_train_temp, y_train_temp)\n",
    "w_test = get_w(x_train_temp, y_train_temp)\n",
    "\n",
    "np.testing.assert_almost_equal(thetas_test[0], 0.0)\n",
    "np.testing.assert_almost_equal(thetas_test[1], 0.8414709848078965)\n",
    "np.testing.assert_almost_equal(w_test, 0.42073549240394825)\n",
    "\n",
    "print(x_train_temp, y_train_temp)\n",
    "print(thetas_test)"
   ]
  },
  {
   "cell_type": "markdown",
   "metadata": {},
   "source": [
    "**Task:**\n",
    "\n",
    "Implement the hypothesis $h_1(x)$ and $h_2(x)$. Your function should return a function."
   ]
  },
  {
   "cell_type": "code",
   "execution_count": 9,
   "metadata": {
    "slideshow": {
     "slide_type": "-"
    }
   },
   "outputs": [],
   "source": [
    "def get_hypothesis_1(thetas):\n",
    "    theta1s = []\n",
    "    theta2s = []\n",
    "    for i in range(len(thetas)):\n",
    "        if (i % 2) == 0:\n",
    "            theta1s.append(thetas[i])\n",
    "        elif (i % 2) != 0:\n",
    "            theta2s.append(thetas[i])\n",
    "            \n",
    "    return lambda x: theta1s + theta2s * x\n",
    "    \n",
    "def get_hypothesis_2(w):\n",
    "    return lambda x: np.full(len(x),w) "
   ]
  },
  {
   "cell_type": "code",
   "execution_count": 10,
   "metadata": {
    "collapsed": true
   },
   "outputs": [],
   "source": [
    "# we want to compute numerically the expectation w.r.t. x\n",
    "# p(x) is const. in the intervall [0, 2pi]\n",
    "x_grid = np.linspace(0, 2*np.pi, 100)\n",
    "y_grid = np.sin(x_grid)"
   ]
  },
  {
   "cell_type": "code",
   "execution_count": 11,
   "metadata": {},
   "outputs": [],
   "source": [
    "# If your implementation is correct, these tests should not throw an exception\n",
    "\n",
    "h1_test = get_hypothesis_1(thetas_test)\n",
    "h2_test = get_hypothesis_2(w_test)\n",
    "np.testing.assert_almost_equal(h1_test(x_grid)[10], 0.5340523361780719)\n",
    "np.testing.assert_almost_equal(h2_test(x_grid)[10], 0.42073549240394825)"
   ]
  },
  {
   "cell_type": "markdown",
   "metadata": {},
   "source": [
    "### Plot\n",
    "\n",
    "Following the original exercise it is not yet necessary to plot anything. But it also does not hurt to do so, since we need to implement code for the plot anyways."
   ]
  },
  {
   "cell_type": "markdown",
   "metadata": {},
   "source": [
    "**Task:**\n",
    "\n",
    "Write the function to plot:\n",
    "- the two examples $(x^{(1)},y^{(2)})$ and $(x^{(2)},y^{(2)})$\n",
    "- the true target function $sin(x)$ in the interval $[0, 2 \\pi]$.\n",
    "- the hypothesis $h_1(x)$ in the interval $[0, 2 \\pi]$\n",
    "- the hypothesis $h_2(x)$ in the interval $[0, 2 \\pi]$\n",
    "    \n",
    "Your plot should look similar to this one:\n",
    "\n",
    "<img src=\"https://gitlab.com/deep.TEACHING/educational-materials/raw/dev/media/klaus/exercise-bias-variance-sin-h1-h2-one-example.png\" width=\"512\" alt=\"internet connection needed\">"
   ]
  },
  {
   "cell_type": "code",
   "execution_count": 12,
   "metadata": {
    "collapsed": true
   },
   "outputs": [],
   "source": [
    "def plot_true_target_function_x_y_h1_h2(x, y, hypothesis1, hypothesis2):\n",
    " \n",
    "    #plt.plot(x,np.sin(x)+.1, label='target sin(x)')\n",
    "    #plt.plot(x,thesis1, label='h1(x)')\n",
    "    #plt.plot(x,thesis2, label='h2(x)')   \n",
    "    #plt.legend()\n",
    "    \n",
    "    x_true = np.arange(0,2*np.pi,0.1)\n",
    "    y_sin = np.sin(x_true)\n",
    "    y_h1 = hypothesis1(x_true)\n",
    "    y_h2 = hypothesis2(x_true)\n",
    "    \n",
    "    plt.plot(x_true,y_sin, 'b', label=\"target sin(x)\")\n",
    "    plt.plot(x_true,y_h1, 'g', label=\"h1(x)\")\n",
    "    plt.plot(x_true,y_h2, 'y', label=\"h2(x)\")\n",
    "    \n",
    "    plt.legend()\n",
    "    \n",
    "    # Plot the Datapoints\n",
    "    if len(x) > 0 :\n",
    "        plt.plot(x[0],y[0], 'ro')\n",
    "        plt.plot(x[1],y[1], 'ro')\n",
    "   \n",
    "    \n",
    "    plt.show()"
   ]
  },
  {
   "cell_type": "code",
   "execution_count": 13,
   "metadata": {},
   "outputs": [
    {
     "data": {
      "image/png": "[encoded data removed]",
      "text/plain": [
       "<Figure size 432x288 with 1 Axes>"
      ]
     },
     "metadata": {
      "needs_background": "light"
     },
     "output_type": "display_data"
    }
   ],
   "source": [
    "x_train, y_train  = train_data() \n",
    "thetas = get_thetas(x_train, y_train)\n",
    "w = get_w(x_train, y_train)\n",
    "plot_true_target_function_x_y_h1_h2(x_train, y_train, get_hypothesis_1(thetas), get_hypothesis_2(w))"
   ]
  },
  {
   "cell_type": "markdown",
   "metadata": {},
   "source": [
    "### Out of Sample Error\n",
    "\n",
    "The _out of sample error_ $E_{out}(h)$ is the expected error on new unseen data.\n",
    "\n",
    "$$\n",
    "E_{out}(h) = \\mathbb E_{x,y}[loss(h(x), y)]  = \\int_{\\mathcal X \\times \\mathcal Y} loss(h(x), y) p(x,y) dx dy\n",
    "$$\n",
    "\n",
    "\n",
    "In our example we don't need to take the expectation w.r.t. $y$ because we have have no noise:\n",
    "\n",
    "$$\n",
    "E_{out}(h) = \\mathbb E_{x}[loss(h(x), t(x))]  = \\int_{\\mathcal X } loss(h(x), t(x)) p(x) dx\n",
    "$$\n",
    "\n",
    "Here, we will compute the _out of sample error_ $E_{out}(h)$ numerically.      \n",
    "     \n",
    "We already have discretized the $x$-axis (`x_grid`) for $p(x)\\neq 0$.      \n",
    "So, to compute the expectation we just need to average over `x_grid` (remember $p(x)$ is uniform).      \n",
    "\n",
    "$$\n",
    "E_{out}(h) = \\mathbb E_{x}[loss(h(x),t(x))] \\approx \\frac{1}{m} \\sum_{j=1}^{m} loss(h(x^{(j)}), y^{(j)}) \n",
    "$$\n",
    "\n",
    "with\n",
    "- $m$: number of elements in `x_grid`\n",
    "- $x^{(j)}$ is the $j$-element of `x_grid`\n",
    "\n",
    "**Task:**\n",
    "\n",
    "Implement the function to numerically calculate the out of sample error $E_{out}$ with the mean squared error as loss function."
   ]
  },
  {
   "cell_type": "code",
   "execution_count": 14,
   "metadata": {
    "slideshow": {
     "slide_type": "-"
    }
   },
   "outputs": [],
   "source": [
    "def out_of_sample_error(y_preds, y):\n",
    "    return np.average(np.square(y_preds-y))"
   ]
  },
  {
   "cell_type": "code",
   "execution_count": 15,
   "metadata": {},
   "outputs": [],
   "source": [
    "# If your implementation is correct, these tests should not throw an exception\n",
    "\n",
    "e_out_h1_test = out_of_sample_error(h1_test(x_grid), y_grid)\n",
    "np.testing.assert_almost_equal(e_out_h1_test, 11.525485917588728)"
   ]
  },
  {
   "cell_type": "markdown",
   "metadata": {},
   "source": [
    "### Repeat\n",
    "\n",
    "**Task:**\n",
    "\n",
    "Now instead of drawing two examples (one training data set), draw \n",
    "now 10.000 times different training sets with two examples.    \n",
    "Calculate $E_{out}$ for the different $h_1$ and $h_2$ numerically.\n",
    "\n",
    "For each run, keep track of the following parameters and return them at the end of the function:\n",
    "- $\\{x^{(1)},x^{(2)}\\}$\n",
    "- $\\{y^{(1)},y^{(2)}\\}$\n",
    "- $\\theta_0$\n",
    "- $\\theta_1$\n",
    "- $w$\n",
    "- $E_{out}$\n"
   ]
  },
  {
   "cell_type": "code",
   "execution_count": 16,
   "metadata": {
    "slideshow": {
     "slide_type": "-"
    }
   },
   "outputs": [],
   "source": [
    "def run_experiment(m, xg, yg):\n",
    "    xs = np.ndarray((m,2))\n",
    "    ys = np.ndarray((m,2))\n",
    "    t0s = np.ndarray(m)\n",
    "    t1s = np.ndarray(m)\n",
    "    ws = np.ndarray(m)\n",
    "    e_out_h1s = np.ndarray(m)\n",
    "    e_out_h2s = np.ndarray(m)\n",
    "\n",
    "    \n",
    "    for i in range(m):\n",
    "        xs[i], ys[i] = train_data()\n",
    "        \n",
    "        ws[i] = get_w(xs[i], ys[i])\n",
    "        thetas_test = get_thetas(xs[i], ys[i])\n",
    "        \n",
    "        t0s[i] = thetas_test[0]\n",
    "        t1s[i] = thetas_test[1]\n",
    "        \n",
    "        h1_test = get_hypothesis_1(thetas_test)\n",
    "        h2_test = get_hypothesis_2(ws[i])\n",
    "        \n",
    "        e_out_h1s[i] = out_of_sample_error(h1_test(xg) ,yg)\n",
    "        e_out_h2s[i] = out_of_sample_error(h2_test(xg) ,yg)\n",
    "                \n",
    "    \n",
    "    return xs, ys, t0s, t1s, ws, e_out_h1s, e_out_h2s"
   ]
  },
  {
   "cell_type": "code",
   "execution_count": 17,
   "metadata": {},
   "outputs": [],
   "source": [
    "xs, ys, t0s, t1s, ws, e_out_h1s, e_out_h2s = run_experiment(10000, x_grid, y_grid)"
   ]
  },
  {
   "cell_type": "markdown",
   "metadata": {},
   "source": [
    "### Average and Plot\n",
    "\n",
    "\n",
    "Now we can calculate the average of $\\theta_0, \\theta_1$, $w$ and $E_{out}$ and already plot the resulting averaged $\\tilde h_1(x)$ and $\\tilde h_2(x)$ together with the target function $sin(x)$.\n",
    "\n",
    "Your plot should look similar to the one below:\n",
    "\n",
    "<img src=\"https://gitlab.com/deep.TEACHING/educational-materials/raw/dev/media/klaus/exercise-bias-variance-sin-h1-h2-avg.png\" width=\"512\" alt=\"internet connection needed\">"
   ]
  },
  {
   "cell_type": "code",
   "execution_count": 18,
   "metadata": {
    "slideshow": {
     "slide_type": "-"
    }
   },
   "outputs": [
    {
     "name": "stdout",
     "output_type": "stream",
     "text": [
      "[0.7821132744331528, -0.24818404602114796]\n"
     ]
    }
   ],
   "source": [
    "t0_avg = t0s.mean()\n",
    "t1_avg = t1s.mean()\n",
    "thetas_avg = [t0_avg, t1_avg]\n",
    "w_avg = ws.mean()\n",
    "h1_avg = get_hypothesis_1(thetas_avg)\n",
    "h2_avg = get_hypothesis_2(w_avg)\n",
    "print(thetas_avg)"
   ]
  },
  {
   "cell_type": "code",
   "execution_count": 19,
   "metadata": {},
   "outputs": [
    {
     "data": {
      "image/png": "[encoded data removed]",
      "text/plain": [
       "<Figure size 432x288 with 1 Axes>"
      ]
     },
     "metadata": {
      "needs_background": "light"
     },
     "output_type": "display_data"
    }
   ],
   "source": [
    "plot_true_target_function_x_y_h1_h2([], [], h1_avg, h2_avg)"
   ]
  },
  {
   "cell_type": "code",
   "execution_count": 20,
   "metadata": {
    "slideshow": {
     "slide_type": "-"
    }
   },
   "outputs": [
    {
     "name": "stdout",
     "output_type": "stream",
     "text": [
      "expectation of E_out of model 1: 1.8740473965199642\n"
     ]
    }
   ],
   "source": [
    "expectation_Eout_1 = e_out_h1s.mean()\n",
    "print (\"expectation of E_out of model 1:\", expectation_Eout_1)"
   ]
  },
  {
   "cell_type": "code",
   "execution_count": 21,
   "metadata": {
    "slideshow": {
     "slide_type": "-"
    }
   },
   "outputs": [
    {
     "name": "stdout",
     "output_type": "stream",
     "text": [
      "expectation of E_out of model 2: 0.7457061591222623\n"
     ]
    }
   ],
   "source": [
    "expectation_Eout_2 = e_out_h2s.mean()\n",
    "print (\"expectation of E_out of model 2:\", expectation_Eout_2)"
   ]
  },
  {
   "cell_type": "markdown",
   "metadata": {},
   "source": [
    "### Bias\n",
    "\n",
    "The bias for the mean-squared error is:\n",
    "$$\n",
    "bias^2 = \\mathbb E_{x,y} \\left[(\\tilde h(x) - y)^2\\right]\n",
    "$$\n",
    "\n",
    "\n",
    "The expectation w.r.t. $y$ vanishes if we have no noise:\n",
    "\n",
    "$$\n",
    "bias^2 = \\mathbb E_x \\left[(\\tilde h(x) - t(x))^2\\right]\n",
    "$$\n",
    "\n",
    "\n",
    "with:\n",
    "\n",
    "- the average hypothesis $\\tilde h(x)$\n",
    "\n",
    "**Task:**\n",
    "\n",
    "Implement the function to calculate the expecation of the bias$^2$ numerically."
   ]
  },
  {
   "cell_type": "code",
   "execution_count": 22,
   "metadata": {
    "collapsed": true,
    "slideshow": {
     "slide_type": "-"
    }
   },
   "outputs": [],
   "source": [
    "def bias_square(y_true, y_avg):\n",
    "    \"\"\"\n",
    "     Returns the bias^2 of a hypothesis set for the sin-example.\n",
    "\n",
    "            Parameters:\n",
    "                    y_true(np.array): The y-values of the target function\n",
    "                                      at each position on the x_grid\n",
    "                    y_avg(np.array): The y-values of the avg hypothesis \n",
    "                                     at each position on the x_grid\n",
    "\n",
    "            Returns:\n",
    "                    variance (double):  Bias^2 of the hypothesis set\n",
    "    \"\"\"\n",
    "    return np.average(np.power((y_avg - y_true),2))"
   ]
  },
  {
   "cell_type": "code",
   "execution_count": 23,
   "metadata": {
    "slideshow": {
     "slide_type": "-"
    }
   },
   "outputs": [
    {
     "name": "stdout",
     "output_type": "stream",
     "text": [
      "Bias of model 1: 0.21050063474791944\n"
     ]
    }
   ],
   "source": [
    "bias_1 = bias_square(y_grid,  h1_avg(x_grid))\n",
    "print (\"Bias of model 1:\", bias_1)"
   ]
  },
  {
   "cell_type": "code",
   "execution_count": 24,
   "metadata": {
    "slideshow": {
     "slide_type": "-"
    }
   },
   "outputs": [
    {
     "name": "stdout",
     "output_type": "stream",
     "text": [
      "Bias of model 2: 0.49500016807466374\n"
     ]
    }
   ],
   "source": [
    "bias_2 = bias_square(y_grid,  h2_avg(x_grid))\n",
    "print (\"Bias of model 2:\", bias_2)"
   ]
  },
  {
   "cell_type": "markdown",
   "metadata": {},
   "source": [
    "### Variance\n",
    "\n",
    "Variance for the mean-squared-error:\n",
    "\n",
    "$$\n",
    "variance = \\mathbb E_D \\left[ \\mathbb E_x \\left[\\left(h^D(x) - \\tilde h(x)\\right)^2 \\right] \\right]\n",
    "$$\n",
    "\n",
    "with:\n",
    "\n",
    "- the average hypothesis $\\tilde h(x)$\n",
    "- the learned hypothesis $h^D(x)$ for training data set $D$.\n",
    "\n",
    "**Task:**\n",
    "\n",
    "Implement the function to calculate the variances for each of the 10.000 experiments and return them as list or array.\n",
    "\n",
    "Now we benefit from our implementation of `get_w`, `get_thetas`, respectively `get_hypothesis1`,`get_hypothesis2`, which accept and return the same amount of parameters, so we can write a generalized function.\n"
   ]
  },
  {
   "cell_type": "code",
   "execution_count": 25,
   "metadata": {
    "collapsed": true,
    "slideshow": {
     "slide_type": "-"
    }
   },
   "outputs": [],
   "source": [
    "def variances(hypothesis_func, param_func, xs, ys, x_grid, y_avg):\n",
    "    '''\n",
    "    Returns the variance of a hypothesis set for the sin-example.\n",
    "\n",
    "            Parameters:\n",
    "                    hypothesis_func (function): The hypothesis function 1 or 2\n",
    "                    param_func (function): the function to calculate the parameters\n",
    "                            from the training data, i.e., get_theta or get_w \n",
    "                    xs(np.array): 2D-Array with different training data values for x\n",
    "                                first dimension: differerent training data sets\n",
    "                                second dimension: data points in a data set\n",
    "                    ys(np.array): 2D-Array with different training data values for y\n",
    "                                first dimension: differerent training data sets\n",
    "                                second dimension: data points in a data set\n",
    "                    x_grid(np.array): The x-values for calculating the expectation E_x\n",
    "                    y_avg(np.array): The y-values of the average hypothesis at the \n",
    "                                     positions of x_grid\n",
    "\n",
    "            Returns:\n",
    "                    variance (double):  Variance of the hypothesis set for \n",
    "                                        a type for training data \n",
    "                                        (here two examples per training data set)\n",
    "    '''\n",
    "\n",
    "    param_func_res = param_func(xs,ys)    \n",
    "    print(len(param_func_res))\n",
    "    \n",
    "    h_test = hypothesis_func(param_func_res)(x_grid)\n",
    "    \n",
    "    return out_of_sample_error(h_test, y_avg)"
   ]
  },
  {
   "cell_type": "code",
   "execution_count": 26,
   "metadata": {},
   "outputs": [
    {
     "name": "stdout",
     "output_type": "stream",
     "text": [
      "19998\n"
     ]
    },
    {
     "ename": "ValueError",
     "evalue": "operands could not be broadcast together with shapes (9999,2) (100,) ",
     "output_type": "error",
     "traceback": [
      "\u001b[0;31m---------------------------------------------------------------------------\u001b[0m",
      "\u001b[0;31mValueError\u001b[0m                                Traceback (most recent call last)",
      "\u001b[0;32m<ipython-input-26-5c0ca08bbfa7>\u001b[0m in \u001b[0;36m<module>\u001b[0;34m\u001b[0m\n\u001b[0;32m----> 1\u001b[0;31m var_hypothesget_thetasis_set_1 = variances(get_hypothesis_1, \n\u001b[0m\u001b[1;32m      2\u001b[0m                  \u001b[0mget_thetas\u001b[0m\u001b[0;34m,\u001b[0m\u001b[0;34m\u001b[0m\u001b[0;34m\u001b[0m\u001b[0m\n\u001b[1;32m      3\u001b[0m                  \u001b[0mxs\u001b[0m\u001b[0;34m,\u001b[0m \u001b[0mys\u001b[0m\u001b[0;34m,\u001b[0m\u001b[0;34m\u001b[0m\u001b[0;34m\u001b[0m\u001b[0m\n\u001b[1;32m      4\u001b[0m                  \u001b[0mx_grid\u001b[0m\u001b[0;34m,\u001b[0m\u001b[0;34m\u001b[0m\u001b[0;34m\u001b[0m\u001b[0m\n\u001b[1;32m      5\u001b[0m                  h1_avg(x_grid))\n",
      "\u001b[0;32m<ipython-input-25-e7abee583f5a>\u001b[0m in \u001b[0;36mvariances\u001b[0;34m(hypothesis_func, param_func, xs, ys, x_grid, y_avg)\u001b[0m\n\u001b[1;32m     26\u001b[0m     \u001b[0mprint\u001b[0m\u001b[0;34m(\u001b[0m\u001b[0mlen\u001b[0m\u001b[0;34m(\u001b[0m\u001b[0mparam_func_res\u001b[0m\u001b[0;34m)\u001b[0m\u001b[0;34m)\u001b[0m\u001b[0;34m\u001b[0m\u001b[0;34m\u001b[0m\u001b[0m\n\u001b[1;32m     27\u001b[0m \u001b[0;34m\u001b[0m\u001b[0m\n\u001b[0;32m---> 28\u001b[0;31m     \u001b[0mh_test\u001b[0m \u001b[0;34m=\u001b[0m \u001b[0mhypothesis_func\u001b[0m\u001b[0;34m(\u001b[0m\u001b[0mparam_func_res\u001b[0m\u001b[0;34m)\u001b[0m\u001b[0;34m(\u001b[0m\u001b[0mx_grid\u001b[0m\u001b[0;34m)\u001b[0m\u001b[0;34m\u001b[0m\u001b[0;34m\u001b[0m\u001b[0m\n\u001b[0m\u001b[1;32m     29\u001b[0m \u001b[0;34m\u001b[0m\u001b[0m\n\u001b[1;32m     30\u001b[0m     \u001b[0;32mreturn\u001b[0m \u001b[0mout_of_sample_error\u001b[0m\u001b[0;34m(\u001b[0m\u001b[0mh_test\u001b[0m\u001b[0;34m,\u001b[0m \u001b[0my_avg\u001b[0m\u001b[0;34m)\u001b[0m\u001b[0;34m\u001b[0m\u001b[0;34m\u001b[0m\u001b[0m\n",
      "\u001b[0;32m<ipython-input-9-46b281d383ff>\u001b[0m in \u001b[0;36m<lambda>\u001b[0;34m(x)\u001b[0m\n\u001b[1;32m      8\u001b[0m             \u001b[0mtheta2s\u001b[0m\u001b[0;34m.\u001b[0m\u001b[0mappend\u001b[0m\u001b[0;34m(\u001b[0m\u001b[0mthetas\u001b[0m\u001b[0;34m[\u001b[0m\u001b[0mi\u001b[0m\u001b[0;34m]\u001b[0m\u001b[0;34m)\u001b[0m\u001b[0;34m\u001b[0m\u001b[0;34m\u001b[0m\u001b[0m\n\u001b[1;32m      9\u001b[0m \u001b[0;34m\u001b[0m\u001b[0m\n\u001b[0;32m---> 10\u001b[0;31m     \u001b[0;32mreturn\u001b[0m \u001b[0;32mlambda\u001b[0m \u001b[0mx\u001b[0m\u001b[0;34m:\u001b[0m \u001b[0mtheta1s\u001b[0m \u001b[0;34m+\u001b[0m \u001b[0mtheta2s\u001b[0m \u001b[0;34m*\u001b[0m \u001b[0mx\u001b[0m\u001b[0;34m\u001b[0m\u001b[0;34m\u001b[0m\u001b[0m\n\u001b[0m\u001b[1;32m     11\u001b[0m \u001b[0;34m\u001b[0m\u001b[0m\n\u001b[1;32m     12\u001b[0m \u001b[0;32mdef\u001b[0m \u001b[0mget_hypothesis_2\u001b[0m\u001b[0;34m(\u001b[0m\u001b[0mw\u001b[0m\u001b[0;34m)\u001b[0m\u001b[0;34m:\u001b[0m\u001b[0;34m\u001b[0m\u001b[0;34m\u001b[0m\u001b[0m\n",
      "\u001b[0;31mValueError\u001b[0m: operands could not be broadcast together with shapes (9999,2) (100,) "
     ]
    }
   ],
   "source": [
    "var_hypothesget_thetasis_set_1 = variances(get_hypothesis_1, \n",
    "                 get_thetas, \n",
    "                 xs, ys, \n",
    "                 x_grid, \n",
    "                 h1_avg(x_grid))\n",
    "print(var_hypothesis_set_1)"
   ]
  },
  {
   "cell_type": "code",
   "execution_count": null,
   "metadata": {},
   "outputs": [],
   "source": [
    "var_hypothesis_set_2 = variances(get_hypothesis_2, \n",
    "                 get_w, \n",
    "                 xs, ys, \n",
    "                 x_grid, \n",
    "                 h2_avg(x_grid))\n",
    "print(var_hypothesis_set_2)"
   ]
  },
  {
   "cell_type": "code",
   "execution_count": null,
   "metadata": {
    "slideshow": {
     "slide_type": "-"
    }
   },
   "outputs": [],
   "source": [
    "print(\"model 1: E_out ≈ bias^2 + variance:  %f ≈ %f + %f\" % (expectation_Eout_1, bias_1, var_hypothesis_set_1))\n",
    "print(\"model 2: E_out ≈ bias^2 + variance:  %f ≈ %f + %f\" % (expectation_Eout_2, bias_2, var_hypothesis_set_2))"
   ]
  },
  {
   "cell_type": "markdown",
   "metadata": {},
   "source": [
    "#### Questions\n",
    "\n",
    "- What do you think is more important for the selection of the appropriate model complexity of the hypothesis set: \n",
    " 1. Complexity of the target function or\n",
    " 2. the number of training data\n",
    "\n",
    "- What do you think happens, if the number of training data increases. \n",
    "  - How change $E_{out}$ of hypothesis sets 1 and 2?\n",
    "  - How change the bias of hypothesis sets 1 and 2?\n",
    "  - How change the variance of hypothesis sets 1 and 2?"
   ]
  },
  {
   "cell_type": "markdown",
   "metadata": {
    "slideshow": {
     "slide_type": "-"
    }
   },
   "source": [
    "## Licenses\n",
    "\n",
    "### Notebook License (CC-BY-SA 4.0)\n",
    "\n",
    "*The following license applies to the complete notebook, including code cells. It does however not apply to any referenced external media (e.g., images).*\n",
    "\n",
    "Exercise: Bias Variance Tradeoff <br/>\n",
    "by Christian Herta, Klaus Strohmenger<br/>\n",
    "is licensed under a [Creative Commons Attribution-ShareAlike 4.0 International License](http://creativecommons.org/licenses/by-sa/4.0/).<br/>\n",
    "Based on a work at https://gitlab.com/deep.TEACHING.\n",
    "\n",
    "\n",
    "### Code License (MIT)\n",
    "\n",
    "*The following license only applies to code cells of the notebook.*\n",
    "\n",
    "Copyright 2018 Christian Herta, Klaus Strohmenger\n",
    "\n",
    "Permission is hereby granted, free of charge, to any person obtaining a copy of this software and associated documentation files (the \"Software\"), to deal in the Software without restriction, including without limitation the rights to use, copy, modify, merge, publish, distribute, sublicense, and/or sell copies of the Software, and to permit persons to whom the Software is furnished to do so, subject to the following conditions:\n",
    "\n",
    "The above copyright notice and this permission notice shall be included in all copies or substantial portions of the Software.\n",
    "\n",
    "THE SOFTWARE IS PROVIDED \"AS IS\", WITHOUT WARRANTY OF ANY KIND, EXPRESS OR IMPLIED, INCLUDING BUT NOT LIMITED TO THE WARRANTIES OF MERCHANTABILITY, FITNESS FOR A PARTICULAR PURPOSE AND NONINFRINGEMENT. IN NO EVENT SHALL THE AUTHORS OR COPYRIGHT HOLDERS BE LIABLE FOR ANY CLAIM, DAMAGES OR OTHER LIABILITY, WHETHER IN AN ACTION OF CONTRACT, TORT OR OTHERWISE, ARISING FROM, OUT OF OR IN CONNECTION WITH THE SOFTWARE OR THE USE OR OTHER DEALINGS IN THE SOFTWARE."
   ]
  }
 ],
 "metadata": {
  "anaconda-cloud": {},
  "celltoolbar": "Slideshow",
  "kernelspec": {
   "display_name": "Python [conda env:py38]",
   "language": "python",
   "name": "conda-env-py38-py"
  },
  "language_info": {
   "codemirror_mode": {
    "name": "ipython",
    "version": 3
   },
   "file_extension": ".py",
   "mimetype": "text/x-python",
   "name": "python",
   "nbconvert_exporter": "python",
   "pygments_lexer": "ipython3",
   "version": "3.8.5"
  }
 },
 "nbformat": 4,
 "nbformat_minor": 2
}
